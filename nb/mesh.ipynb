{
 "cells": [
  {
   "cell_type": "markdown",
   "id": "a43e7657-cf6f-42b6-9327-987d9f44d610",
   "metadata": {},
   "source": [
    "# Mesh calculations\n",
    "\n",
    "This package includes helper routines to handle mesh-based calculations. FFTs and halo padding are performed with [jaxdecomp](https://github.com/DifferentiableUniverseInitiative/jaxDecomp)."
   ]
  },
  {
   "cell_type": "markdown",
   "id": "a89fc6ca-f0a6-40b9-acfa-a6bf05981368",
   "metadata": {},
   "source": [
    "## Mesh attributes (`MeshAttrs`)"
   ]
  },
  {
   "cell_type": "code",
   "execution_count": 1,
   "id": "a4d7443e-b845-4929-9116-2c85a4c1bdae",
   "metadata": {},
   "outputs": [
    {
     "name": "stdout",
     "output_type": "stream",
     "text": [
      "MeshAttrs(meshsize=staticarray([128, 128, 128], dtype=int32), boxsize=Array([100., 100., 100.], dtype=float32), boxcenter=Array([0., 0., 0.], dtype=float32), dtype=dtype('float32'), fft_engine='jaxdecomp')\n"
     ]
    }
   ],
   "source": [
    "# To define a mesh, let's start with MeshAttrs\n",
    "import jax\n",
    "from jax import numpy as jnp\n",
    "from jax import random\n",
    "from jaxpower import MeshAttrs, RealMeshField, ComplexMeshField\n",
    "\n",
    "# This specifies the meshvsize (128), box size (in physical length units, e.g. Mpc/h), 100., and center of the box w.r.t. the observer\n",
    "attrs = MeshAttrs(meshsize=128, boxsize=100., boxcenter=0.)\n",
    "print(attrs)\n",
    "attrs.meshsize  # mesh size (array of length 3)\n",
    "attrs.boxsize   # box size (array of length 3)\n",
    "attrs.boxcenter # box center (array of length 3)\n",
    "attrs.cellsize  # Cell-size\n",
    "attrs.knyq  # Nyquist frequency (array of length 3), jnp.pi / attrs.cellsize\n",
    "attrs.kfun  # Fundamental frequency (array of length 3), 2 * jnp.pi / attrs.boxsize\n",
    "\n",
    "attrs.rcoords(kind='position', sparse=None)  # return mesh coordinates  (list of 3 1D arrays)\n",
    "attrs.kcoords(kind='wavenumber', sparse=True);  # return Fourier-space coordinates  (list of 3 broadcastable arrays)"
   ]
  },
  {
   "cell_type": "code",
   "execution_count": 2,
   "id": "b260ae8f-d4cc-4edb-b0a3-b521942e5178",
   "metadata": {},
   "outputs": [
    {
     "name": "stdout",
     "output_type": "stream",
     "text": [
      "MeshAttrs(meshsize=staticarray([128, 100], dtype=int32), boxsize=Array([100., 100.], dtype=float32), boxcenter=Array([0., 0.], dtype=float32), dtype=dtype('float32'), fft_engine='jax')\n",
      "dimension is 3\n"
     ]
    }
   ],
   "source": [
    "# As a default, mesh is 3D, but it can be any dimension, as long as it specified in one of the input arrays\n",
    "\n",
    "attrs2 = MeshAttrs(meshsize=(128, 100), boxsize=100.)\n",
    "print(attrs2)\n",
    "print('dimension is {:d}'.format(attrs.ndim))"
   ]
  },
  {
   "cell_type": "markdown",
   "id": "824b679d-00d7-4f78-a814-551e72116a85",
   "metadata": {},
   "source": [
    "## Create a mesh"
   ]
  },
  {
   "cell_type": "code",
   "execution_count": 3,
   "id": "7bd66672-3cdd-47bc-960a-2444cc37f070",
   "metadata": {},
   "outputs": [
    {
     "name": "stdout",
     "output_type": "stream",
     "text": [
      "<class 'jaxpower.mesh.RealMeshField'>\n",
      "<class 'jaxpower.mesh.ComplexMeshField'>\n"
     ]
    }
   ],
   "source": [
    "# To create an (empty) real mesh\n",
    "rmesh = attrs.create(kind='real')\n",
    "print(type(rmesh))\n",
    "# A complex mesh with 0\n",
    "cmesh = attrs.create(kind='complex', fill=0.)\n",
    "print(type(cmesh))"
   ]
  },
  {
   "cell_type": "code",
   "execution_count": 4,
   "id": "0348eb15-bd20-45ff-8448-c89ab539aa5c",
   "metadata": {},
   "outputs": [],
   "source": [
    "# If you already have an array\n",
    "key = random.key(42)\n",
    "array = random.uniform(key, shape=(128,) * 3)\n",
    "rmesh = attrs.create(kind='real', fill=array)\n",
    "# Or\n",
    "rmesh = RealMeshField(array, attrs=attrs)"
   ]
  },
  {
   "cell_type": "code",
   "execution_count": 5,
   "id": "dae25c86-c3e6-4e31-acc6-4437be1ba598",
   "metadata": {},
   "outputs": [],
   "source": [
    "# MeshAttrs can be accessed with\n",
    "attrs = rmesh.attrs"
   ]
  },
  {
   "cell_type": "code",
   "execution_count": 6,
   "id": "74ae4ae0-c3bb-4e3a-9e21-0cd0c6a3c7c3",
   "metadata": {},
   "outputs": [],
   "source": [
    "rmesh.coords()  # equivalent to rmesh.attrs.rcoords\n",
    "cmesh.coords()  # equivalent to cmesh.attrs.kcoords\n",
    "rmesh = rmesh.clone(value=2. * rmesh.value)  # update mesh value"
   ]
  },
  {
   "cell_type": "markdown",
   "id": "baf26cb3-7680-43de-b84d-c7b1f95b45e1",
   "metadata": {},
   "source": [
    "## FFT"
   ]
  },
  {
   "cell_type": "code",
   "execution_count": 7,
   "id": "7bd23194-830b-4aa0-a39c-eff958a15d85",
   "metadata": {},
   "outputs": [],
   "source": [
    "# As a default, 3D FFTs are performed with jaxdecomp if installed\n",
    "\n",
    "cmesh = rmesh.r2c()\n",
    "rmesh2 = cmesh.c2r()\n",
    "\n",
    "assert jnp.allclose(rmesh2.value, rmesh.value, rtol=1e-4, atol=1e-4)"
   ]
  },
  {
   "cell_type": "markdown",
   "id": "7f9a9cda-d903-45ad-b480-e557f3584826",
   "metadata": {},
   "source": [
    "## Kernels"
   ]
  },
  {
   "cell_type": "code",
   "execution_count": 8,
   "id": "86503b52-43cd-4677-bc21-39146d640582",
   "metadata": {},
   "outputs": [],
   "source": [
    "cmesh = cmesh.apply(lambda value, kvec: value * jnp.exp(-sum(kk**2 for kk in kvec)), kind='wavenumber')\n",
    "# Also, some pre-registed kernels\n",
    "from jaxpower import kernels\n",
    "cmesh = cmesh.apply(kernels.gradient(axis=0))\n",
    "cmesh = cmesh.apply(kernels.invlaplace())"
   ]
  },
  {
   "cell_type": "markdown",
   "id": "b2b7245c-5e9d-48a4-9c59-9cea37aa0d8b",
   "metadata": {},
   "source": [
    "## Reading"
   ]
  },
  {
   "cell_type": "code",
   "execution_count": 9,
   "id": "82994991-3d05-4ced-934c-8fba27ea2fd2",
   "metadata": {},
   "outputs": [],
   "source": [
    "# Uniformly-distributed positions\n",
    "positions = attrs.boxsize * random.uniform(key, (int(1e3), attrs.ndim)) - attrs.boxsize / 2. + attrs.boxcenter\n",
    "\n",
    "# resampler is 'ngp', 'cic', 'tsc', 'pcs'\n",
    "# compensate=True to apply compensation kernel (in Fourier space) before reading\n",
    "values = rmesh.read(positions, resampler='tsc', compensate=True)"
   ]
  },
  {
   "cell_type": "markdown",
   "id": "4670578c-85ea-44dc-88f4-2fc108444043",
   "metadata": {},
   "source": [
    "## Painting"
   ]
  },
  {
   "cell_type": "code",
   "execution_count": 10,
   "id": "57c2d193-b37b-4c5b-814a-7421e7bddaa0",
   "metadata": {},
   "outputs": [],
   "source": [
    "from jaxpower import ParticleField\n",
    "\n",
    "particles = ParticleField(positions, weights=jnp.ones(positions.shape[0]), attrs=attrs)\n",
    "# Return painted real mesh, with interlacing and kernel compensation\n",
    "rmesh = particles.paint(resampler='tsc', interlacing=2, compensate=True, out='real')"
   ]
  },
  {
   "cell_type": "markdown",
   "id": "5fa33e69-3bed-4c91-9ca4-cf850e74e6d3",
   "metadata": {},
   "source": [
    "## Distributed calculation"
   ]
  },
  {
   "cell_type": "code",
   "execution_count": 11,
   "id": "7f7833e6-07d6-403a-8756-d519d26924c0",
   "metadata": {},
   "outputs": [
    {
     "name": "stdout",
     "output_type": "stream",
     "text": [
      "Sharding mesh Mesh('x': 1, 'y': 1).\n"
     ]
    }
   ],
   "source": [
    "# Initialize JAX distributed environment\n",
    "#jax.distributed.initialize()\n",
    "\n",
    "# Let's simulate distributed calculation\n",
    "from jaxpower import create_sharding_mesh, create_sharded_random, exchange_particles\n",
    "\n",
    "with create_sharding_mesh() as sharding_mesh:  # specify how to spatially distribute particles / mesh\n",
    "    print('Sharding mesh {}.'.format(sharding_mesh))\n",
    "    # To create a distributed Gaussian field\n",
    "    rmesh = attrs.create(kind='real', fill=create_sharded_random(random.normal, random.key(42), shape=attrs.meshsize))\n",
    "    # FFT (3D-only!)\n",
    "    cmesh = rmesh.r2c()\n",
    "    # kernels are automatically distributed\n",
    "    cmesh.coords()  # output coords (k here) is sharded, so can be readily used\n",
    "    # Now the hard part is painting / reading particles\n",
    "    # Let's assume one can create particles\n",
    "\n",
    "    def sample(key, shape):\n",
    "        return attrs.boxsize * random.uniform(key, shape + (len(attrs.boxsize),), dtype=attrs.dtype) - attrs.boxsize / 2. + attrs.boxcenter\n",
    "    # This will create a sample of randomly generated particles, as a sharded array\n",
    "    positions = create_sharded_random(sample, random.key(42), shape=1000, out_specs=0)\n",
    "    \n",
    "    # These particles must be redistributed (\"exchanged\"), such that each portion of the particles spatially corresponds to the local portion of the mesh\n",
    "    positions, exchange = exchange_particles(attrs, positions=positions, return_inverse=False)\n",
    "    # exchange can be used to exchange additional arrays, such as weights: weights = exchange(weights)\n",
    "\n",
    "    # Now we can paint the particles\n",
    "    particles = ParticleField(positions, attrs=attrs)\n",
    "    # Note: a shortcut to exchange_particles(...) and ParticleField(...) is\n",
    "    # particles = ParticleField(positions, attrs=attrs, exchange=True)\n",
    "    rmesh = particles.paint(resampler='tsc', interlacing=2, compensate=True, out='real')\n",
    "    # rmesh is sharded\n",
    "    # Same to read\n",
    "    values = rmesh.read(positions, resampler='tsc', compensate=True)\n",
    "\n",
    "    # For paint and read above, halo size (region of the mesh that are exchanged) was just the size of the painting / reading kernel\n",
    "    # This is because particles were exchanged to exactly match the local portion of the mesh\n",
    "    # In practice however, for differentiable LPT or PM schemes, you probably want to fix once for all the halo size to the maximum distance\n",
    "    # travelled by the particles, typically of the order of a few Mpc/h in cosmology. So one would do:\n",
    "    halo_size = int(jnp.ceil(20 / attrs.cellsize[0]))  # number of cells corresponding to 20 Mpc/h\n",
    "    rmesh = particles.paint(resampler='tsc', interlacing=2, compensate=True, out='real', halo_size=halo_size)\n",
    "    values = rmesh.read(positions, resampler='tsc', compensate=True, halo_size=halo_size)\n",
    "\n",
    "# Close JAX distributed environment\n",
    "#jax.distributed.shutdown()"
   ]
  }
 ],
 "metadata": {
  "kernelspec": {
   "display_name": "cosmodesi-main",
   "language": "python",
   "name": "cosmodesi-main"
  },
  "language_info": {
   "codemirror_mode": {
    "name": "ipython",
    "version": 3
   },
   "file_extension": ".py",
   "mimetype": "text/x-python",
   "name": "python",
   "nbconvert_exporter": "python",
   "pygments_lexer": "ipython3",
   "version": "3.10.16"
  }
 },
 "nbformat": 4,
 "nbformat_minor": 5
}
